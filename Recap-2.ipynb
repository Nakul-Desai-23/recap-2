{
 "cells": [
  {
   "cell_type": "code",
   "execution_count": null,
   "id": "238888d0",
   "metadata": {},
   "outputs": [],
   "source": [
    "type()\n",
    "print()\n",
    "len()\n",
    "range()"
   ]
  },
  {
   "cell_type": "code",
   "execution_count": 1,
   "id": "10af01bc",
   "metadata": {},
   "outputs": [],
   "source": [
    "def test():\n",
    "    print(\"This is my first function\")"
   ]
  },
  {
   "cell_type": "code",
   "execution_count": 2,
   "id": "58df93ea",
   "metadata": {},
   "outputs": [
    {
     "name": "stdout",
     "output_type": "stream",
     "text": [
      "This is my first function\n"
     ]
    }
   ],
   "source": [
    "test()"
   ]
  },
  {
   "cell_type": "code",
   "execution_count": 3,
   "id": "f87aa9e0",
   "metadata": {},
   "outputs": [],
   "source": [
    "def test1():\n",
    "    print(\"test\")"
   ]
  },
  {
   "cell_type": "code",
   "execution_count": 5,
   "id": "ff023701",
   "metadata": {},
   "outputs": [
    {
     "name": "stdout",
     "output_type": "stream",
     "text": [
      "test\n"
     ]
    },
    {
     "ename": "TypeError",
     "evalue": "unsupported operand type(s) for +: 'NoneType' and 'str'",
     "output_type": "error",
     "traceback": [
      "\u001b[1;31m---------------------------------------------------------------------------\u001b[0m",
      "\u001b[1;31mTypeError\u001b[0m                                 Traceback (most recent call last)",
      "Cell \u001b[1;32mIn[5], line 1\u001b[0m\n\u001b[1;32m----> 1\u001b[0m test1() \u001b[38;5;241m+\u001b[39m \u001b[38;5;124m\"\u001b[39m\u001b[38;5;124msudh\u001b[39m\u001b[38;5;124m\"\u001b[39m\n",
      "\u001b[1;31mTypeError\u001b[0m: unsupported operand type(s) for +: 'NoneType' and 'str'"
     ]
    }
   ],
   "source": [
    "test1() + \"sudh\""
   ]
  },
  {
   "cell_type": "code",
   "execution_count": 6,
   "id": "e76b75c1",
   "metadata": {},
   "outputs": [
    {
     "name": "stdout",
     "output_type": "stream",
     "text": [
      "test\n"
     ]
    },
    {
     "data": {
      "text/plain": [
       "NoneType"
      ]
     },
     "execution_count": 6,
     "metadata": {},
     "output_type": "execute_result"
    }
   ],
   "source": [
    "type(test1())"
   ]
  },
  {
   "cell_type": "code",
   "execution_count": 7,
   "id": "f5ed8124",
   "metadata": {},
   "outputs": [],
   "source": [
    "def test2():\n",
    "    print(1+2)"
   ]
  },
  {
   "cell_type": "code",
   "execution_count": 10,
   "id": "6dba18be",
   "metadata": {},
   "outputs": [
    {
     "name": "stdout",
     "output_type": "stream",
     "text": [
      "3\n"
     ]
    },
    {
     "ename": "TypeError",
     "evalue": "unsupported operand type(s) for +: 'NoneType' and 'int'",
     "output_type": "error",
     "traceback": [
      "\u001b[1;31m---------------------------------------------------------------------------\u001b[0m",
      "\u001b[1;31mTypeError\u001b[0m                                 Traceback (most recent call last)",
      "Cell \u001b[1;32mIn[10], line 1\u001b[0m\n\u001b[1;32m----> 1\u001b[0m test2()\u001b[38;5;241m+\u001b[39m\u001b[38;5;241m10\u001b[39m\n",
      "\u001b[1;31mTypeError\u001b[0m: unsupported operand type(s) for +: 'NoneType' and 'int'"
     ]
    }
   ],
   "source": [
    "test2()+10"
   ]
  },
  {
   "cell_type": "code",
   "execution_count": 11,
   "id": "e3fd03b3",
   "metadata": {},
   "outputs": [],
   "source": [
    "def test3():\n",
    "    return 1+2"
   ]
  },
  {
   "cell_type": "code",
   "execution_count": 12,
   "id": "696cfe8b",
   "metadata": {},
   "outputs": [
    {
     "data": {
      "text/plain": [
       "3"
      ]
     },
     "execution_count": 12,
     "metadata": {},
     "output_type": "execute_result"
    }
   ],
   "source": [
    "test3()"
   ]
  },
  {
   "cell_type": "code",
   "execution_count": 13,
   "id": "3def230a",
   "metadata": {},
   "outputs": [
    {
     "data": {
      "text/plain": [
       "13"
      ]
     },
     "execution_count": 13,
     "metadata": {},
     "output_type": "execute_result"
    }
   ],
   "source": [
    "test3()+10"
   ]
  },
  {
   "cell_type": "code",
   "execution_count": 14,
   "id": "c01804bc",
   "metadata": {},
   "outputs": [
    {
     "data": {
      "text/plain": [
       "int"
      ]
     },
     "execution_count": 14,
     "metadata": {},
     "output_type": "execute_result"
    }
   ],
   "source": [
    "type(test3())"
   ]
  },
  {
   "cell_type": "code",
   "execution_count": 15,
   "id": "47a38f44",
   "metadata": {},
   "outputs": [],
   "source": [
    "def test4():\n",
    "    return 2,\"sudh\",True,[1,2,3,4,5]"
   ]
  },
  {
   "cell_type": "code",
   "execution_count": 16,
   "id": "d3cfa506",
   "metadata": {},
   "outputs": [
    {
     "data": {
      "text/plain": [
       "(2, 'sudh', True, [1, 2, 3, 4, 5])"
      ]
     },
     "execution_count": 16,
     "metadata": {},
     "output_type": "execute_result"
    }
   ],
   "source": [
    "test4()"
   ]
  },
  {
   "cell_type": "code",
   "execution_count": 17,
   "id": "661772bd",
   "metadata": {},
   "outputs": [],
   "source": [
    "a,b,c,d = 2,\"sudh\",True,[1,2,3,4,5]"
   ]
  },
  {
   "cell_type": "code",
   "execution_count": 18,
   "id": "1794d5ec",
   "metadata": {},
   "outputs": [],
   "source": [
    "a=1\n",
    "b=\"sudh\"\n",
    "c= 34\n",
    "d= 45"
   ]
  },
  {
   "cell_type": "code",
   "execution_count": 19,
   "id": "d6707eab",
   "metadata": {},
   "outputs": [
    {
     "data": {
      "text/plain": [
       "tuple"
      ]
     },
     "execution_count": 19,
     "metadata": {},
     "output_type": "execute_result"
    }
   ],
   "source": [
    "type(test4())"
   ]
  },
  {
   "cell_type": "code",
   "execution_count": 20,
   "id": "57b94fb2",
   "metadata": {},
   "outputs": [],
   "source": [
    "m,n,o,p=test4()"
   ]
  },
  {
   "cell_type": "code",
   "execution_count": 21,
   "id": "a57d1f3c",
   "metadata": {},
   "outputs": [
    {
     "data": {
      "text/plain": [
       "2"
      ]
     },
     "execution_count": 21,
     "metadata": {},
     "output_type": "execute_result"
    }
   ],
   "source": [
    "m"
   ]
  },
  {
   "cell_type": "code",
   "execution_count": 22,
   "id": "b414e8ee",
   "metadata": {},
   "outputs": [
    {
     "data": {
      "text/plain": [
       "'sudh'"
      ]
     },
     "execution_count": 22,
     "metadata": {},
     "output_type": "execute_result"
    }
   ],
   "source": [
    "n"
   ]
  },
  {
   "cell_type": "code",
   "execution_count": 23,
   "id": "a574c841",
   "metadata": {},
   "outputs": [
    {
     "data": {
      "text/plain": [
       "True"
      ]
     },
     "execution_count": 23,
     "metadata": {},
     "output_type": "execute_result"
    }
   ],
   "source": [
    "o"
   ]
  },
  {
   "cell_type": "code",
   "execution_count": 24,
   "id": "8db51b9d",
   "metadata": {},
   "outputs": [
    {
     "data": {
      "text/plain": [
       "[1, 2, 3, 4, 5]"
      ]
     },
     "execution_count": 24,
     "metadata": {},
     "output_type": "execute_result"
    }
   ],
   "source": [
    "p"
   ]
  },
  {
   "cell_type": "code",
   "execution_count": 25,
   "id": "7860d1f6",
   "metadata": {},
   "outputs": [],
   "source": [
    "def test5(x):\n",
    "    return x"
   ]
  },
  {
   "cell_type": "code",
   "execution_count": 26,
   "id": "5b62e547",
   "metadata": {},
   "outputs": [
    {
     "data": {
      "text/plain": [
       "10"
      ]
     },
     "execution_count": 26,
     "metadata": {},
     "output_type": "execute_result"
    }
   ],
   "source": [
    "test5(10)"
   ]
  },
  {
   "cell_type": "code",
   "execution_count": 27,
   "id": "199a446d",
   "metadata": {},
   "outputs": [
    {
     "data": {
      "text/plain": [
       "'sudh'"
      ]
     },
     "execution_count": 27,
     "metadata": {},
     "output_type": "execute_result"
    }
   ],
   "source": [
    "test5(\"sudh\")"
   ]
  },
  {
   "cell_type": "code",
   "execution_count": 28,
   "id": "fb3d9e05",
   "metadata": {},
   "outputs": [
    {
     "data": {
      "text/plain": [
       "[1, 2, 3, 4, 5]"
      ]
     },
     "execution_count": 28,
     "metadata": {},
     "output_type": "execute_result"
    }
   ],
   "source": [
    "test5([1,2,3,4,5])"
   ]
  },
  {
   "cell_type": "code",
   "execution_count": 30,
   "id": "33adc471",
   "metadata": {},
   "outputs": [
    {
     "ename": "TypeError",
     "evalue": "test5() takes 1 positional argument but 2 were given",
     "output_type": "error",
     "traceback": [
      "\u001b[1;31m---------------------------------------------------------------------------\u001b[0m",
      "\u001b[1;31mTypeError\u001b[0m                                 Traceback (most recent call last)",
      "Cell \u001b[1;32mIn[30], line 1\u001b[0m\n\u001b[1;32m----> 1\u001b[0m test5(\u001b[38;5;241m4\u001b[39m,\u001b[38;5;241m5\u001b[39m)\n",
      "\u001b[1;31mTypeError\u001b[0m: test5() takes 1 positional argument but 2 were given"
     ]
    }
   ],
   "source": [
    "test5(4,5)"
   ]
  },
  {
   "cell_type": "code",
   "execution_count": 31,
   "id": "8f2661dc",
   "metadata": {},
   "outputs": [
    {
     "ename": "TypeError",
     "evalue": "test5() missing 1 required positional argument: 'x'",
     "output_type": "error",
     "traceback": [
      "\u001b[1;31m---------------------------------------------------------------------------\u001b[0m",
      "\u001b[1;31mTypeError\u001b[0m                                 Traceback (most recent call last)",
      "Cell \u001b[1;32mIn[31], line 1\u001b[0m\n\u001b[1;32m----> 1\u001b[0m test5()\n",
      "\u001b[1;31mTypeError\u001b[0m: test5() missing 1 required positional argument: 'x'"
     ]
    }
   ],
   "source": [
    "test5()"
   ]
  },
  {
   "cell_type": "code",
   "execution_count": 32,
   "id": "c57dcc43",
   "metadata": {},
   "outputs": [],
   "source": [
    "def test6(x,y):\n",
    "    return x,y"
   ]
  },
  {
   "cell_type": "code",
   "execution_count": 33,
   "id": "380f1ef5",
   "metadata": {},
   "outputs": [
    {
     "data": {
      "text/plain": [
       "('sudh', [1, 2, 3])"
      ]
     },
     "execution_count": 33,
     "metadata": {},
     "output_type": "execute_result"
    }
   ],
   "source": [
    "test6('sudh',[1,2,3])"
   ]
  },
  {
   "cell_type": "code",
   "execution_count": 34,
   "id": "d688e7b0",
   "metadata": {},
   "outputs": [],
   "source": [
    "def test7(a:int , b:int):\n",
    "    return a,b"
   ]
  },
  {
   "cell_type": "code",
   "execution_count": 35,
   "id": "43b405ef",
   "metadata": {},
   "outputs": [
    {
     "data": {
      "text/plain": [
       "(5, 6)"
      ]
     },
     "execution_count": 35,
     "metadata": {},
     "output_type": "execute_result"
    }
   ],
   "source": [
    "test7(5,6)"
   ]
  },
  {
   "cell_type": "code",
   "execution_count": 36,
   "id": "f32185b1",
   "metadata": {},
   "outputs": [
    {
     "data": {
      "text/plain": [
       "('sudh', [1, 2, 3, 4])"
      ]
     },
     "execution_count": 36,
     "metadata": {},
     "output_type": "execute_result"
    }
   ],
   "source": [
    "test7(\"sudh\",[1,2,3,4])"
   ]
  },
  {
   "cell_type": "code",
   "execution_count": 38,
   "id": "adeeae45",
   "metadata": {},
   "outputs": [
    {
     "data": {
      "text/plain": [
       "tuple"
      ]
     },
     "execution_count": 38,
     "metadata": {},
     "output_type": "execute_result"
    }
   ],
   "source": [
    "type(test7('sudh',[1,2,3,4]))"
   ]
  },
  {
   "cell_type": "code",
   "execution_count": 39,
   "id": "a43d72fd",
   "metadata": {},
   "outputs": [],
   "source": [
    "def test8(x:int,y:int):\n",
    "    return x/y"
   ]
  },
  {
   "cell_type": "code",
   "execution_count": 40,
   "id": "2545e67e",
   "metadata": {},
   "outputs": [
    {
     "data": {
      "text/plain": [
       "0.8"
      ]
     },
     "execution_count": 40,
     "metadata": {},
     "output_type": "execute_result"
    }
   ],
   "source": [
    "test8(4,5)"
   ]
  },
  {
   "cell_type": "code",
   "execution_count": 41,
   "id": "e4a5f71a",
   "metadata": {},
   "outputs": [
    {
     "ename": "TypeError",
     "evalue": "unsupported operand type(s) for /: 'str' and 'str'",
     "output_type": "error",
     "traceback": [
      "\u001b[1;31m---------------------------------------------------------------------------\u001b[0m",
      "\u001b[1;31mTypeError\u001b[0m                                 Traceback (most recent call last)",
      "Cell \u001b[1;32mIn[41], line 1\u001b[0m\n\u001b[1;32m----> 1\u001b[0m test8(\u001b[38;5;124m\"\u001b[39m\u001b[38;5;124msudh\u001b[39m\u001b[38;5;124m\"\u001b[39m,\u001b[38;5;124m\"\u001b[39m\u001b[38;5;124mkumar\u001b[39m\u001b[38;5;124m\"\u001b[39m)\n",
      "Cell \u001b[1;32mIn[39], line 2\u001b[0m, in \u001b[0;36mtest8\u001b[1;34m(x, y)\u001b[0m\n\u001b[0;32m      1\u001b[0m \u001b[38;5;28;01mdef\u001b[39;00m \u001b[38;5;21mtest8\u001b[39m(x:\u001b[38;5;28mint\u001b[39m,y:\u001b[38;5;28mint\u001b[39m):\n\u001b[1;32m----> 2\u001b[0m     \u001b[38;5;28;01mreturn\u001b[39;00m x\u001b[38;5;241m/\u001b[39my\n",
      "\u001b[1;31mTypeError\u001b[0m: unsupported operand type(s) for /: 'str' and 'str'"
     ]
    }
   ],
   "source": [
    "test8(\"sudh\",\"kumar\")"
   ]
  },
  {
   "cell_type": "code",
   "execution_count": 43,
   "id": "ed4b0675",
   "metadata": {},
   "outputs": [],
   "source": [
    "def test9(c,d):\n",
    "    \"\"\"This is my function which can take two inputes and return an addition or concatenation\n",
    "    \"\"\"\n",
    "    return c+d"
   ]
  },
  {
   "cell_type": "code",
   "execution_count": 44,
   "id": "6f149394",
   "metadata": {},
   "outputs": [
    {
     "data": {
      "text/plain": [
       "'nakuldesai'"
      ]
     },
     "execution_count": 44,
     "metadata": {},
     "output_type": "execute_result"
    }
   ],
   "source": [
    "test9('nakul','desai')"
   ]
  },
  {
   "cell_type": "code",
   "execution_count": 45,
   "id": "6f0cbd6d",
   "metadata": {},
   "outputs": [],
   "source": [
    "def test10(*args):\n",
    "    return args\n",
    "    "
   ]
  },
  {
   "cell_type": "code",
   "execution_count": 46,
   "id": "348bd258",
   "metadata": {},
   "outputs": [
    {
     "data": {
      "text/plain": [
       "()"
      ]
     },
     "execution_count": 46,
     "metadata": {},
     "output_type": "execute_result"
    }
   ],
   "source": [
    "test10()"
   ]
  },
  {
   "cell_type": "code",
   "execution_count": 47,
   "id": "1b887074",
   "metadata": {},
   "outputs": [
    {
     "data": {
      "text/plain": [
       "(2, 3, 4, 5, 6, 6)"
      ]
     },
     "execution_count": 47,
     "metadata": {},
     "output_type": "execute_result"
    }
   ],
   "source": [
    "test10(2,3,4,5,6,6)"
   ]
  },
  {
   "cell_type": "code",
   "execution_count": 48,
   "id": "dbda95aa",
   "metadata": {},
   "outputs": [],
   "source": [
    "def test11(*sudh):\n",
    "    return sudh"
   ]
  },
  {
   "cell_type": "code",
   "execution_count": 49,
   "id": "7fda6a16",
   "metadata": {},
   "outputs": [
    {
     "data": {
      "text/plain": [
       "(3, 4, 5, 666)"
      ]
     },
     "execution_count": 49,
     "metadata": {},
     "output_type": "execute_result"
    }
   ],
   "source": [
    "test11(3,4,5,666)"
   ]
  },
  {
   "cell_type": "code",
   "execution_count": 50,
   "id": "44e18fbf",
   "metadata": {},
   "outputs": [],
   "source": [
    "def test12(**kwargs):\n",
    "    return kwargs"
   ]
  },
  {
   "cell_type": "code",
   "execution_count": 52,
   "id": "66525345",
   "metadata": {},
   "outputs": [
    {
     "data": {
      "text/plain": [
       "{'a': 23, 'b': 44, 'c': 55}"
      ]
     },
     "execution_count": 52,
     "metadata": {},
     "output_type": "execute_result"
    }
   ],
   "source": [
    "test12(a=23,b=44,c=55)"
   ]
  },
  {
   "cell_type": "code",
   "execution_count": 54,
   "id": "a3e7606d",
   "metadata": {},
   "outputs": [
    {
     "data": {
      "text/plain": [
       "{'n': {'a': 23, 'b': 44, 'c': 55}}"
      ]
     },
     "execution_count": 54,
     "metadata": {},
     "output_type": "execute_result"
    }
   ],
   "source": [
    "test12(n={'a': 23, 'b': 44, 'c': 55})"
   ]
  },
  {
   "cell_type": "code",
   "execution_count": 55,
   "id": "665ab167",
   "metadata": {},
   "outputs": [],
   "source": [
    "def test13(b, a = 10,c=20):\n",
    "    return a,b,c                #Default argument\n",
    "                                #default arguments should be kept after the non default argument"
   ]
  },
  {
   "cell_type": "code",
   "execution_count": 56,
   "id": "a404decc",
   "metadata": {},
   "outputs": [
    {
     "data": {
      "text/plain": [
       "(10, 56, 20)"
      ]
     },
     "execution_count": 56,
     "metadata": {},
     "output_type": "execute_result"
    }
   ],
   "source": [
    "test13(56)"
   ]
  },
  {
   "cell_type": "code",
   "execution_count": 57,
   "id": "5f111899",
   "metadata": {},
   "outputs": [
    {
     "data": {
      "text/plain": [
       "(45, 34, 20)"
      ]
     },
     "execution_count": 57,
     "metadata": {},
     "output_type": "execute_result"
    }
   ],
   "source": [
    "test13(34,a=45)"
   ]
  },
  {
   "cell_type": "markdown",
   "id": "3cd98021",
   "metadata": {},
   "source": [
    "#### Lambda/Anonymous/Function without name"
   ]
  },
  {
   "cell_type": "code",
   "execution_count": 58,
   "id": "160b2b9a",
   "metadata": {},
   "outputs": [],
   "source": [
    "v=test13(4,5,6)"
   ]
  },
  {
   "cell_type": "code",
   "execution_count": 59,
   "id": "2b7ba41e",
   "metadata": {},
   "outputs": [
    {
     "data": {
      "text/plain": [
       "(5, 4, 6)"
      ]
     },
     "execution_count": 59,
     "metadata": {},
     "output_type": "execute_result"
    }
   ],
   "source": [
    "v"
   ]
  },
  {
   "cell_type": "code",
   "execution_count": 60,
   "id": "5d8ef5cc",
   "metadata": {},
   "outputs": [],
   "source": [
    "def test14(a,b):\n",
    "    return a+b"
   ]
  },
  {
   "cell_type": "code",
   "execution_count": 61,
   "id": "8f85b71f",
   "metadata": {},
   "outputs": [
    {
     "data": {
      "text/plain": [
       "11"
      ]
     },
     "execution_count": 61,
     "metadata": {},
     "output_type": "execute_result"
    }
   ],
   "source": [
    "test14(5,6)"
   ]
  },
  {
   "cell_type": "code",
   "execution_count": 62,
   "id": "7b6146fb",
   "metadata": {},
   "outputs": [],
   "source": [
    "m = lambda a,b:a+b"
   ]
  },
  {
   "cell_type": "code",
   "execution_count": 63,
   "id": "121f0b02",
   "metadata": {},
   "outputs": [
    {
     "data": {
      "text/plain": [
       "11"
      ]
     },
     "execution_count": 63,
     "metadata": {},
     "output_type": "execute_result"
    }
   ],
   "source": [
    "m(5,6)"
   ]
  },
  {
   "cell_type": "code",
   "execution_count": 64,
   "id": "29bdc4bf",
   "metadata": {},
   "outputs": [
    {
     "data": {
      "text/plain": [
       "<function __main__.test14(a, b)>"
      ]
     },
     "execution_count": 64,
     "metadata": {},
     "output_type": "execute_result"
    }
   ],
   "source": [
    "test14"
   ]
  },
  {
   "cell_type": "code",
   "execution_count": 66,
   "id": "519095ea",
   "metadata": {},
   "outputs": [
    {
     "data": {
      "text/plain": [
       "<function __main__.<lambda>(a, b)>"
      ]
     },
     "execution_count": 66,
     "metadata": {},
     "output_type": "execute_result"
    }
   ],
   "source": [
    "m"
   ]
  },
  {
   "cell_type": "code",
   "execution_count": 2,
   "id": "e0c5e184",
   "metadata": {},
   "outputs": [],
   "source": [
    "def check_even(n):\n",
    "    if n%2==0:\n",
    "        return \"Given number is an even number\"\n",
    "    else:\n",
    "        return \"Given number is an odd number\""
   ]
  },
  {
   "cell_type": "code",
   "execution_count": 3,
   "id": "79a58c6f",
   "metadata": {},
   "outputs": [
    {
     "data": {
      "text/plain": [
       "'Given number is an odd number'"
      ]
     },
     "execution_count": 3,
     "metadata": {},
     "output_type": "execute_result"
    }
   ],
   "source": [
    "check_even(7)"
   ]
  },
  {
   "cell_type": "code",
   "execution_count": 6,
   "id": "f487d9de",
   "metadata": {},
   "outputs": [],
   "source": [
    "x = lambda n:\"Even\" if n%2==0 else \"Odd\""
   ]
  },
  {
   "cell_type": "code",
   "execution_count": 7,
   "id": "e1a1e178",
   "metadata": {},
   "outputs": [
    {
     "data": {
      "text/plain": [
       "'Even'"
      ]
     },
     "execution_count": 7,
     "metadata": {},
     "output_type": "execute_result"
    }
   ],
   "source": [
    "x(10)"
   ]
  },
  {
   "cell_type": "code",
   "execution_count": 8,
   "id": "2f2b9b85",
   "metadata": {},
   "outputs": [],
   "source": [
    "l =[3,4,5,6,7,2,12,3,4,5]\n",
    "\n",
    "min_list = lambda li: min(li)"
   ]
  },
  {
   "cell_type": "code",
   "execution_count": 9,
   "id": "0981b66d",
   "metadata": {},
   "outputs": [
    {
     "data": {
      "text/plain": [
       "2"
      ]
     },
     "execution_count": 9,
     "metadata": {},
     "output_type": "execute_result"
    }
   ],
   "source": [
    "min_list(l)"
   ]
  },
  {
   "cell_type": "code",
   "execution_count": 11,
   "id": "b7bbf062",
   "metadata": {},
   "outputs": [],
   "source": [
    "d = lambda a,b:a/b"
   ]
  },
  {
   "cell_type": "code",
   "execution_count": 12,
   "id": "51ae871f",
   "metadata": {},
   "outputs": [
    {
     "data": {
      "text/plain": [
       "3.0"
      ]
     },
     "execution_count": 12,
     "metadata": {},
     "output_type": "execute_result"
    }
   ],
   "source": [
    "d(9,3)"
   ]
  },
  {
   "cell_type": "code",
   "execution_count": 13,
   "id": "886114d1",
   "metadata": {},
   "outputs": [],
   "source": [
    "upper = lambda s : s.upper()"
   ]
  },
  {
   "cell_type": "code",
   "execution_count": 14,
   "id": "b9489716",
   "metadata": {},
   "outputs": [
    {
     "data": {
      "text/plain": [
       "'SUDH'"
      ]
     },
     "execution_count": 14,
     "metadata": {},
     "output_type": "execute_result"
    }
   ],
   "source": [
    "upper(\"sudh\")"
   ]
  },
  {
   "cell_type": "code",
   "execution_count": 17,
   "id": "c721746e",
   "metadata": {},
   "outputs": [],
   "source": [
    "l=[3,4,5,6,7,8,9,34,23,41]\n",
    "\n",
    "def sum_odd(b):\n",
    "    l1=[]\n",
    "    for i in b:\n",
    "        if i%2!=0:\n",
    "            l1.append(i)\n",
    "    return sum(l1)\n",
    "    "
   ]
  },
  {
   "cell_type": "code",
   "execution_count": 18,
   "id": "238d05ea",
   "metadata": {},
   "outputs": [
    {
     "data": {
      "text/plain": [
       "88"
      ]
     },
     "execution_count": 18,
     "metadata": {},
     "output_type": "execute_result"
    }
   ],
   "source": [
    "sum_odd(l)"
   ]
  },
  {
   "cell_type": "code",
   "execution_count": 20,
   "id": "b8bae55e",
   "metadata": {},
   "outputs": [
    {
     "data": {
      "text/plain": [
       "88"
      ]
     },
     "execution_count": 20,
     "metadata": {},
     "output_type": "execute_result"
    }
   ],
   "source": [
    "[i for i in l if i%2!=0]"
   ]
  },
  {
   "cell_type": "code",
   "execution_count": 21,
   "id": "86743b1d",
   "metadata": {},
   "outputs": [
    {
     "data": {
      "text/plain": [
       "88"
      ]
     },
     "execution_count": 21,
     "metadata": {},
     "output_type": "execute_result"
    }
   ],
   "source": [
    "sum([i for i in l if i%2!=0])"
   ]
  },
  {
   "cell_type": "code",
   "execution_count": 22,
   "id": "6292d599",
   "metadata": {},
   "outputs": [],
   "source": [
    "sum_off_lambda = lambda b : sum([i for i in b if i%2!=0])"
   ]
  },
  {
   "cell_type": "code",
   "execution_count": 23,
   "id": "08cd6ff3",
   "metadata": {},
   "outputs": [
    {
     "data": {
      "text/plain": [
       "88"
      ]
     },
     "execution_count": 23,
     "metadata": {},
     "output_type": "execute_result"
    }
   ],
   "source": [
    "sum_off_lambda(l)"
   ]
  },
  {
   "cell_type": "code",
   "execution_count": 36,
   "id": "3cb7795d",
   "metadata": {},
   "outputs": [],
   "source": [
    "def factorial(n):\n",
    "    \n",
    "    if n==0:\n",
    "        return 1\n",
    "    \n",
    "    elif n<0:\n",
    "        return \"Invalid\"\n",
    "    \n",
    "    else:\n",
    "    \n",
    "        for i in range(1,n):\n",
    "            n=n*i\n",
    "        return n\n",
    "    "
   ]
  },
  {
   "cell_type": "code",
   "execution_count": 37,
   "id": "968b1766",
   "metadata": {},
   "outputs": [
    {
     "data": {
      "text/plain": [
       "1"
      ]
     },
     "execution_count": 37,
     "metadata": {},
     "output_type": "execute_result"
    }
   ],
   "source": [
    "factorial(0)"
   ]
  },
  {
   "cell_type": "code",
   "execution_count": 38,
   "id": "0ceb0a32",
   "metadata": {},
   "outputs": [
    {
     "data": {
      "text/plain": [
       "'Invalid'"
      ]
     },
     "execution_count": 38,
     "metadata": {},
     "output_type": "execute_result"
    }
   ],
   "source": [
    "factorial(-5)"
   ]
  },
  {
   "cell_type": "code",
   "execution_count": 39,
   "id": "d7d58db8",
   "metadata": {},
   "outputs": [
    {
     "data": {
      "text/plain": [
       "120"
      ]
     },
     "execution_count": 39,
     "metadata": {},
     "output_type": "execute_result"
    }
   ],
   "source": [
    "factorial(5)"
   ]
  },
  {
   "cell_type": "code",
   "execution_count": 40,
   "id": "eeba8922",
   "metadata": {},
   "outputs": [],
   "source": [
    "#Recursive function\n",
    "\n",
    "def fact_number(n):\n",
    "    if n == 0:\n",
    "        return 1\n",
    "    elif n<0:\n",
    "        return \"Invalid\"\n",
    "    else:\n",
    "        return n*fact_number(n-1)"
   ]
  },
  {
   "cell_type": "code",
   "execution_count": 41,
   "id": "d4a09bf6",
   "metadata": {},
   "outputs": [
    {
     "data": {
      "text/plain": [
       "24"
      ]
     },
     "execution_count": 41,
     "metadata": {},
     "output_type": "execute_result"
    }
   ],
   "source": [
    "fact_number(4)"
   ]
  },
  {
   "cell_type": "code",
   "execution_count": 42,
   "id": "ba187e57",
   "metadata": {},
   "outputs": [
    {
     "data": {
      "text/plain": [
       "1"
      ]
     },
     "execution_count": 42,
     "metadata": {},
     "output_type": "execute_result"
    }
   ],
   "source": [
    "fact_number(0)"
   ]
  },
  {
   "cell_type": "code",
   "execution_count": 43,
   "id": "5c65f7ca",
   "metadata": {},
   "outputs": [
    {
     "data": {
      "text/plain": [
       "'Invalid'"
      ]
     },
     "execution_count": 43,
     "metadata": {},
     "output_type": "execute_result"
    }
   ],
   "source": [
    "fact_number(-4)"
   ]
  },
  {
   "cell_type": "code",
   "execution_count": 44,
   "id": "53b4c22f",
   "metadata": {},
   "outputs": [],
   "source": [
    "fact_num_lambda = lambda n : 1 if n == 0 else n*fact_num_lambda(n-1)"
   ]
  },
  {
   "cell_type": "code",
   "execution_count": 45,
   "id": "52a5b2f3",
   "metadata": {},
   "outputs": [
    {
     "data": {
      "text/plain": [
       "120"
      ]
     },
     "execution_count": 45,
     "metadata": {},
     "output_type": "execute_result"
    }
   ],
   "source": [
    "fact_num_lambda(5)"
   ]
  },
  {
   "cell_type": "code",
   "execution_count": null,
   "id": "d90f7f7d",
   "metadata": {},
   "outputs": [],
   "source": [
    "#Map\n",
    "#Reduce\n",
    "#Filter"
   ]
  },
  {
   "cell_type": "code",
   "execution_count": 46,
   "id": "c91c2059",
   "metadata": {},
   "outputs": [
    {
     "name": "stdout",
     "output_type": "stream",
     "text": [
      "[7, 8, 9, 10, 11]\n"
     ]
    }
   ],
   "source": [
    "l = [5,6,7,8,9]\n",
    "l1=[]\n",
    "for i in l:\n",
    "    i=i+2\n",
    "    l1.append(i)\n",
    "print(l1)"
   ]
  },
  {
   "cell_type": "code",
   "execution_count": 47,
   "id": "ab455aa4",
   "metadata": {},
   "outputs": [],
   "source": [
    "def add_list(l):\n",
    "    l1=[]\n",
    "    for i in l:\n",
    "        i=i+2\n",
    "        l1.append(i)\n",
    "    return l1\n",
    "    "
   ]
  },
  {
   "cell_type": "code",
   "execution_count": 48,
   "id": "b849dd63",
   "metadata": {},
   "outputs": [
    {
     "data": {
      "text/plain": [
       "[7, 8, 9, 10, 11]"
      ]
     },
     "execution_count": 48,
     "metadata": {},
     "output_type": "execute_result"
    }
   ],
   "source": [
    "add_list(l)"
   ]
  },
  {
   "cell_type": "code",
   "execution_count": 53,
   "id": "afaf5340",
   "metadata": {},
   "outputs": [
    {
     "data": {
      "text/plain": [
       "[7, 8, 9, 10, 11]"
      ]
     },
     "execution_count": 53,
     "metadata": {},
     "output_type": "execute_result"
    }
   ],
   "source": [
    "#Map Function    \n",
    "    \n",
    "list(map(lambda a : a+2,l))"
   ]
  },
  {
   "cell_type": "code",
   "execution_count": 54,
   "id": "0cd60b97",
   "metadata": {},
   "outputs": [
    {
     "data": {
      "text/plain": [
       "[5, 6, 7, 8, 9]"
      ]
     },
     "execution_count": 54,
     "metadata": {},
     "output_type": "execute_result"
    }
   ],
   "source": [
    "l"
   ]
  },
  {
   "cell_type": "code",
   "execution_count": 55,
   "id": "78cfc035",
   "metadata": {},
   "outputs": [],
   "source": [
    "def test34(c):\n",
    "    return c+2"
   ]
  },
  {
   "cell_type": "code",
   "execution_count": 56,
   "id": "a1504108",
   "metadata": {},
   "outputs": [
    {
     "data": {
      "text/plain": [
       "<map at 0x26623ca23e0>"
      ]
     },
     "execution_count": 56,
     "metadata": {},
     "output_type": "execute_result"
    }
   ],
   "source": [
    "map(test34,l)"
   ]
  },
  {
   "cell_type": "code",
   "execution_count": 57,
   "id": "b44e4ed8",
   "metadata": {},
   "outputs": [
    {
     "data": {
      "text/plain": [
       "[7, 8, 9, 10, 11]"
      ]
     },
     "execution_count": 57,
     "metadata": {},
     "output_type": "execute_result"
    }
   ],
   "source": [
    "list(map(test34,l))"
   ]
  },
  {
   "cell_type": "code",
   "execution_count": 58,
   "id": "73c2ec74",
   "metadata": {},
   "outputs": [
    {
     "data": {
      "text/plain": [
       "7"
      ]
     },
     "execution_count": 58,
     "metadata": {},
     "output_type": "execute_result"
    }
   ],
   "source": [
    "test34(5)"
   ]
  },
  {
   "cell_type": "code",
   "execution_count": 59,
   "id": "1f3dc3ca",
   "metadata": {},
   "outputs": [
    {
     "data": {
      "text/plain": [
       "8"
      ]
     },
     "execution_count": 59,
     "metadata": {},
     "output_type": "execute_result"
    }
   ],
   "source": [
    "test34(6)"
   ]
  },
  {
   "cell_type": "code",
   "execution_count": 61,
   "id": "b37aedcf",
   "metadata": {},
   "outputs": [
    {
     "data": {
      "text/plain": [
       "9"
      ]
     },
     "execution_count": 61,
     "metadata": {},
     "output_type": "execute_result"
    }
   ],
   "source": [
    "test34(7)"
   ]
  },
  {
   "cell_type": "code",
   "execution_count": 62,
   "id": "d6700b05",
   "metadata": {},
   "outputs": [
    {
     "data": {
      "text/plain": [
       "10"
      ]
     },
     "execution_count": 62,
     "metadata": {},
     "output_type": "execute_result"
    }
   ],
   "source": [
    "test34(8)"
   ]
  },
  {
   "cell_type": "code",
   "execution_count": 63,
   "id": "c01df6ca",
   "metadata": {},
   "outputs": [
    {
     "data": {
      "text/plain": [
       "11"
      ]
     },
     "execution_count": 63,
     "metadata": {},
     "output_type": "execute_result"
    }
   ],
   "source": [
    "test34(9)"
   ]
  },
  {
   "cell_type": "code",
   "execution_count": 64,
   "id": "f4957f4a",
   "metadata": {},
   "outputs": [
    {
     "data": {
      "text/plain": [
       "[4, 5, 8]"
      ]
     },
     "execution_count": 64,
     "metadata": {},
     "output_type": "execute_result"
    }
   ],
   "source": [
    "l = [\"sudh\",\"Kumar\",\"pwskills\"]\n",
    "\n",
    "list(map(lambda a : len(a),l))"
   ]
  },
  {
   "cell_type": "code",
   "execution_count": 77,
   "id": "d07a7c88",
   "metadata": {},
   "outputs": [],
   "source": [
    "def test35(a):\n",
    "    return len(a)\n",
    "    "
   ]
  },
  {
   "cell_type": "code",
   "execution_count": 78,
   "id": "cff7cd38",
   "metadata": {},
   "outputs": [
    {
     "data": {
      "text/plain": [
       "[4, 5, 8]"
      ]
     },
     "execution_count": 78,
     "metadata": {},
     "output_type": "execute_result"
    }
   ],
   "source": [
    "list(map(test35,l))"
   ]
  },
  {
   "cell_type": "code",
   "execution_count": 79,
   "id": "d8fdd845",
   "metadata": {},
   "outputs": [
    {
     "data": {
      "text/plain": [
       "['sudh', 'Kumar', 'pwskills']"
      ]
     },
     "execution_count": 79,
     "metadata": {},
     "output_type": "execute_result"
    }
   ],
   "source": [
    "l"
   ]
  },
  {
   "cell_type": "code",
   "execution_count": 80,
   "id": "ef26b11f",
   "metadata": {},
   "outputs": [
    {
     "data": {
      "text/plain": [
       "['hdus', 'ramuK', 'sllikswp']"
      ]
     },
     "execution_count": 80,
     "metadata": {},
     "output_type": "execute_result"
    }
   ],
   "source": [
    "list(map(lambda a: a[::-1],l))"
   ]
  },
  {
   "cell_type": "code",
   "execution_count": 87,
   "id": "7150c5ba",
   "metadata": {},
   "outputs": [],
   "source": [
    "l = [2,3,4,5,6,6]\n",
    "def mul_list(a):\n",
    "    \n",
    "    mul = 1\n",
    "    for i in a:\n",
    "        mul=mul*i\n",
    "    return mul"
   ]
  },
  {
   "cell_type": "code",
   "execution_count": 88,
   "id": "137631cf",
   "metadata": {},
   "outputs": [
    {
     "data": {
      "text/plain": [
       "4320"
      ]
     },
     "execution_count": 88,
     "metadata": {},
     "output_type": "execute_result"
    }
   ],
   "source": [
    "mul_list(l)"
   ]
  },
  {
   "cell_type": "code",
   "execution_count": 89,
   "id": "8170ac89",
   "metadata": {},
   "outputs": [],
   "source": [
    "l = [2,3,4,5,6,6]\n",
    "\n",
    "from functools import reduce\n"
   ]
  },
  {
   "cell_type": "code",
   "execution_count": 90,
   "id": "9c6ab3d6",
   "metadata": {},
   "outputs": [
    {
     "data": {
      "text/plain": [
       "4320"
      ]
     },
     "execution_count": 90,
     "metadata": {},
     "output_type": "execute_result"
    }
   ],
   "source": [
    "reduce(lambda a,b: a*b ,l)"
   ]
  },
  {
   "cell_type": "code",
   "execution_count": 92,
   "id": "55db49ec",
   "metadata": {},
   "outputs": [
    {
     "data": {
      "text/plain": [
       "[2, 3, 4, 5, 6, 6]"
      ]
     },
     "execution_count": 92,
     "metadata": {},
     "output_type": "execute_result"
    }
   ],
   "source": [
    "l"
   ]
  },
  {
   "cell_type": "code",
   "execution_count": 93,
   "id": "7a3c0df3",
   "metadata": {},
   "outputs": [
    {
     "data": {
      "text/plain": [
       "6"
      ]
     },
     "execution_count": 93,
     "metadata": {},
     "output_type": "execute_result"
    }
   ],
   "source": [
    "reduce (lambda a,b : a if a>b else b ,l)"
   ]
  },
  {
   "cell_type": "code",
   "execution_count": 95,
   "id": "2c75b7b2",
   "metadata": {},
   "outputs": [],
   "source": [
    "n=4\n",
    "fact=reduce(lambda a,b:a*b,range(1,n+1))"
   ]
  },
  {
   "cell_type": "code",
   "execution_count": 96,
   "id": "e69d82d6",
   "metadata": {},
   "outputs": [
    {
     "data": {
      "text/plain": [
       "24"
      ]
     },
     "execution_count": 96,
     "metadata": {},
     "output_type": "execute_result"
    }
   ],
   "source": [
    "fact\n"
   ]
  },
  {
   "cell_type": "code",
   "execution_count": 97,
   "id": "da204465",
   "metadata": {},
   "outputs": [],
   "source": [
    "n=4\n",
    "def test(a,b):\n",
    "    return a*b"
   ]
  },
  {
   "cell_type": "code",
   "execution_count": 98,
   "id": "25364db4",
   "metadata": {},
   "outputs": [],
   "source": [
    "fact1= reduce(test,range(1,n+1))"
   ]
  },
  {
   "cell_type": "code",
   "execution_count": 99,
   "id": "55a73376",
   "metadata": {},
   "outputs": [
    {
     "data": {
      "text/plain": [
       "24"
      ]
     },
     "execution_count": 99,
     "metadata": {},
     "output_type": "execute_result"
    }
   ],
   "source": [
    "fact1"
   ]
  },
  {
   "cell_type": "code",
   "execution_count": 100,
   "id": "7bd8de81",
   "metadata": {},
   "outputs": [
    {
     "data": {
      "text/plain": [
       "[2, 3, 4, 5, 6, 6]"
      ]
     },
     "execution_count": 100,
     "metadata": {},
     "output_type": "execute_result"
    }
   ],
   "source": [
    "l"
   ]
  },
  {
   "cell_type": "code",
   "execution_count": 104,
   "id": "9325b63e",
   "metadata": {},
   "outputs": [
    {
     "data": {
      "text/plain": [
       "[2, 4, 6, 6]"
      ]
     },
     "execution_count": 104,
     "metadata": {},
     "output_type": "execute_result"
    }
   ],
   "source": [
    "from functools import reduce\n",
    "[i for i in l if i%2==0]"
   ]
  },
  {
   "cell_type": "code",
   "execution_count": 106,
   "id": "b0d2d97c",
   "metadata": {},
   "outputs": [
    {
     "data": {
      "text/plain": [
       "288"
      ]
     },
     "execution_count": 106,
     "metadata": {},
     "output_type": "execute_result"
    }
   ],
   "source": [
    "reduce(lambda a,b:a*b ,[i for i in l if i%2==0])"
   ]
  },
  {
   "cell_type": "code",
   "execution_count": 107,
   "id": "bea0d80d",
   "metadata": {},
   "outputs": [
    {
     "data": {
      "text/plain": [
       "[3, 5, 7, 9, 89, 7, 57, 65]"
      ]
     },
     "execution_count": 107,
     "metadata": {},
     "output_type": "execute_result"
    }
   ],
   "source": [
    "l = [3,4,5,6,7,8,9,89,78,6,7,34,57,65]\n",
    "[i for i in l if i%2!=0]"
   ]
  },
  {
   "cell_type": "code",
   "execution_count": 108,
   "id": "a5f9021b",
   "metadata": {},
   "outputs": [
    {
     "data": {
      "text/plain": [
       "<filter at 0x26624245d50>"
      ]
     },
     "execution_count": 108,
     "metadata": {},
     "output_type": "execute_result"
    }
   ],
   "source": [
    "filter(lambda a:a%2!=0,l)"
   ]
  },
  {
   "cell_type": "code",
   "execution_count": 109,
   "id": "f4716edb",
   "metadata": {},
   "outputs": [
    {
     "data": {
      "text/plain": [
       "[3, 5, 7, 9, 89, 7, 57, 65]"
      ]
     },
     "execution_count": 109,
     "metadata": {},
     "output_type": "execute_result"
    }
   ],
   "source": [
    "list(filter(lambda a:a%2!=0,l))"
   ]
  },
  {
   "cell_type": "code",
   "execution_count": 112,
   "id": "9baefa60",
   "metadata": {},
   "outputs": [],
   "source": [
    "s = \"Pwskills\"\n"
   ]
  },
  {
   "cell_type": "code",
   "execution_count": 113,
   "id": "e5a8d801",
   "metadata": {},
   "outputs": [
    {
     "data": {
      "text/plain": [
       "['w', 's', 'k', 'i', 'l', 'l', 's']"
      ]
     },
     "execution_count": 113,
     "metadata": {},
     "output_type": "execute_result"
    }
   ],
   "source": [
    "list(filter(lambda a : a.islower(),s))"
   ]
  },
  {
   "cell_type": "code",
   "execution_count": 114,
   "id": "89bdadcb",
   "metadata": {},
   "outputs": [],
   "source": [
    "l=[\"pw\",\"pwskills\",\"sudh\",\"krish\"]"
   ]
  },
  {
   "cell_type": "code",
   "execution_count": 116,
   "id": "582f2cfb",
   "metadata": {},
   "outputs": [
    {
     "data": {
      "text/plain": [
       "['pw', 'sudh']"
      ]
     },
     "execution_count": 116,
     "metadata": {},
     "output_type": "execute_result"
    }
   ],
   "source": [
    "list(filter(lambda a : len(a)<=4,l))"
   ]
  },
  {
   "cell_type": "code",
   "execution_count": 117,
   "id": "9b893cfd",
   "metadata": {},
   "outputs": [
    {
     "data": {
      "text/plain": [
       "['pw', 'pwskills', 'sudh', 'krish']"
      ]
     },
     "execution_count": 117,
     "metadata": {},
     "output_type": "execute_result"
    }
   ],
   "source": [
    "l"
   ]
  },
  {
   "cell_type": "code",
   "execution_count": 118,
   "id": "92cdc1f5",
   "metadata": {},
   "outputs": [
    {
     "data": {
      "text/plain": [
       "['pw', 'pwskills']"
      ]
     },
     "execution_count": 118,
     "metadata": {},
     "output_type": "execute_result"
    }
   ],
   "source": [
    "list(filter(lambda a : a.startswith('p'),l))"
   ]
  },
  {
   "cell_type": "markdown",
   "id": "aec59d64",
   "metadata": {},
   "source": [
    "#### Recursive Functions"
   ]
  },
  {
   "cell_type": "code",
   "execution_count": null,
   "id": "a042abe3",
   "metadata": {},
   "outputs": [],
   "source": [
    "calling the same function again and again"
   ]
  },
  {
   "cell_type": "code",
   "execution_count": 120,
   "id": "d88bc7b8",
   "metadata": {},
   "outputs": [],
   "source": [
    "def gen_fib(n):\n",
    "    if n <=1:\n",
    "        return n\n",
    "    else:\n",
    "        return gen_fib(n-1) + gen_fib(n-2)\n",
    "    "
   ]
  },
  {
   "cell_type": "code",
   "execution_count": 121,
   "id": "6b08cc12",
   "metadata": {},
   "outputs": [
    {
     "data": {
      "text/plain": [
       "2"
      ]
     },
     "execution_count": 121,
     "metadata": {},
     "output_type": "execute_result"
    }
   ],
   "source": [
    "gen_fib(3)"
   ]
  },
  {
   "cell_type": "code",
   "execution_count": 122,
   "id": "5209a408",
   "metadata": {},
   "outputs": [],
   "source": [
    "def sum_till_n(n):\n",
    "    if n== 1:\n",
    "        return 1\n",
    "    else:\n",
    "        return n + sum_till_n(n-1)"
   ]
  },
  {
   "cell_type": "code",
   "execution_count": 123,
   "id": "102121b7",
   "metadata": {},
   "outputs": [
    {
     "data": {
      "text/plain": [
       "15"
      ]
     },
     "execution_count": 123,
     "metadata": {},
     "output_type": "execute_result"
    }
   ],
   "source": [
    "sum_till_n(5)"
   ]
  },
  {
   "cell_type": "code",
   "execution_count": null,
   "id": "d8b872ce",
   "metadata": {},
   "outputs": [],
   "source": [
    "recurssion\n",
    "while loop\n",
    "iterators,iterable,generator\n",
    "enumeration\n",
    "dcorators\n",
    "comprehension"
   ]
  }
 ],
 "metadata": {
  "kernelspec": {
   "display_name": "Python 3 (ipykernel)",
   "language": "python",
   "name": "python3"
  },
  "language_info": {
   "codemirror_mode": {
    "name": "ipython",
    "version": 3
   },
   "file_extension": ".py",
   "mimetype": "text/x-python",
   "name": "python",
   "nbconvert_exporter": "python",
   "pygments_lexer": "ipython3",
   "version": "3.11.3"
  }
 },
 "nbformat": 4,
 "nbformat_minor": 5
}
